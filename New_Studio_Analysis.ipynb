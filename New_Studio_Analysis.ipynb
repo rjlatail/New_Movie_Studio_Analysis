{
 "cells": [
  {
   "cell_type": "markdown",
   "metadata": {},
   "source": [
    "# New Movie Studio Decision Analysis"
   ]
  },
  {
   "cell_type": "markdown",
   "metadata": {},
   "source": [
    "by Karina Baculima, Rick Lataille, and Monica Pecha for Flatiron School"
   ]
  },
  {
   "cell_type": "markdown",
   "metadata": {},
   "source": [
    "### Project Overview and Bottom Line\n",
    "\n",
    "Paranormal Activity, a low budget film produced on 15,000 dollars, was able to grow into an 890 million dollar theatrical franchise!<sup>1</sup> \n",
    "\n",
    "This project presents an analysis of past movies based on how well they did in the box office. Our team reviews and processes the data in order to generate insights for Calculated Craft Productions. Ultimately we were able to come up with recommendations that the company’s new movie studio can use.\n",
    "\n",
    "We found that maintaining budget discipline can lead to 2x the profitability! \n",
    "\n",
    "\n",
    "<sup>1</sup>*[Article](https://fortune.com/longform/jason-blum-exorcist-blumhouse-low-budget-horror-films/) written by Devin Gordon in 2023*"
   ]
  },
  {
   "cell_type": "markdown",
   "metadata": {},
   "source": [
    "![action](https://cdn.inkspire.org/wp-content/uploads/2022/01/shutterstock_169841813-min.png)\n",
    "\n",
    "<span>Photo by Samantha Pavich from <a href=\"https://inkspire.org/post/film-industry-where-is-the-justice/\">inkspire.org</a></span>"
   ]
  },
  {
   "cell_type": "markdown",
   "metadata": {},
   "source": [
    "## Business Problem\n",
    "\n",
    "Calculated Craft Productions is expanding it's business to new industries. They asked our team to look into the data for movies within the US from 2010 to 2018. The company wants to know:\n",
    "\n",
    "1. Will a movie studio with a smaller budget or a larger budget result in a lower financial risk? \n",
    "2. Which type of film has the highest payoffs? \n",
    "3. Which producers were the most successful at generating significant and reliable returns? "
   ]
  },
  {
   "cell_type": "markdown",
   "metadata": {},
   "source": [
    "## Data Understanding\n",
    "\n",
    "For this project the dataset was taken from:\n",
    "\n",
    "- IMDB \n",
    "- The Numbers Movie Budgets \n",
    "- Box Office Mojo Movie Gross\n",
    "\n",
    "The entire dataset contains 3205 movies. Let's explore the processes done on the dataset.\n",
    "\n",
    "- Data Preparation and Cleaning\n",
    "- Data Limitations\n",
    "- Data Visualization and Analysis\n"
   ]
  },
  {
   "cell_type": "markdown",
   "metadata": {},
   "source": [
    "### Data preparation and Cleaning\n",
    "\n",
    "Overall steps for this section:\n",
    "- Check for duplicates\n",
    "- Filter raw data by relevancy to business problem\n",
    "- Address missing values\n",
    "- Standardization of capitalization\n",
    "- Keep columns necessary to answer business problem "
   ]
  },
  {
   "cell_type": "markdown",
   "metadata": {},
   "source": [
    "### Data Limitations\n",
    "\n",
    "We encountered significant flaws in the data which limited our ability to perfectly match records across data sources.\n",
    "\n",
    "- The dataset includes films completed and released to the market, and some films which are scheduled to be released, but does not include films which were never released, or their budgets. \n",
    "\n",
    "- Some spot checks of the data suggest that worldwide gross in particular is not reliable across all films.\n",
    "\n",
    "- Financial reporting across studios can differ, in particular due to the manner in which compensation is paid, which could alter any profitability analysis.\n",
    "\n",
    "- There are many below-the-line costs, such as press & advertising and cinema revenue-sharing, that differs from film to film and could have an effect on this analysis."
   ]
  },
  {
   "cell_type": "code",
   "execution_count": 1,
   "metadata": {},
   "outputs": [],
   "source": [
    "# import packages used throughout the analysis\n",
    "\n",
    "import pandas as pd\n",
    "import numpy as np\n",
    "from scipy.stats import chi2_contingency\n",
    "from matplotlib import pyplot as plt\n",
    "import seaborn as sns\n",
    "from scipy import stats\n",
    "from scipy.stats import norm\n",
    "from scipy.optimize import curve_fit\n",
    "from random import gauss, seed\n",
    "import sklearn.metrics as metrics\n",
    "import statsmodels.api as sm\n",
    "from sklearn.linear_model import LinearRegression\n",
    "from scipy.stats import ttest_ind\n",
    "import re\n",
    "import sqlite3\n",
    "\n",
    "%matplotlib inline"
   ]
  },
  {
   "cell_type": "code",
   "execution_count": 2,
   "metadata": {},
   "outputs": [],
   "source": [
    "# read all csv and tsv data files into dataframes; ultimately we only used df1 and df5, but explored all five csv and tsv files\n",
    "\n",
    "df1=pd.read_csv(\"zippedData/tn.movie_budgets.csv.gz\")\n",
    "df5=pd.read_csv(\"zippedData/bom.movie_gross.csv.gz\")"
   ]
  },
  {
   "cell_type": "code",
   "execution_count": 3,
   "metadata": {},
   "outputs": [],
   "source": [
    "#establish sql connection and read in the im.db\n",
    "\n",
    "conn = sqlite3.connect(\"zippedData/im.db/im.db\")"
   ]
  },
  {
   "cell_type": "code",
   "execution_count": 4,
   "metadata": {},
   "outputs": [],
   "source": [
    "#joined three relevant SQL tables together\n",
    "\n",
    "df_sql_merged = pd.read_sql(\"\"\"\n",
    "SELECT per.primary_name, bas.primary_title, bas.genres, bas.movie_id, bas.start_year\n",
    "FROM persons as per\n",
    "    JOIN principals as pri\n",
    "    ON pri.person_id = per.person_id\n",
    "    JOIN movie_basics as bas\n",
    "    ON pri.movie_id = bas.movie_id\n",
    "WHERE category = \"producer\"\n",
    "\"\"\", conn)"
   ]
  },
  {
   "cell_type": "code",
   "execution_count": 5,
   "metadata": {},
   "outputs": [],
   "source": [
    "# convert the release date column to datetime\n",
    "\n",
    "df1['release_date'] = pd.to_datetime(df1['release_date'])\n",
    "df1['year'] = df1['release_date'].apply(lambda x: x.year)\n",
    "df1['month'] = df1['release_date'].apply(lambda x: x.month)"
   ]
  },
  {
   "cell_type": "code",
   "execution_count": 6,
   "metadata": {},
   "outputs": [],
   "source": [
    "# create a key from the title and year\n",
    "\n",
    "df_sql_merged['title_year'] = df_sql_merged['primary_title'] + df_sql_merged['start_year'].astype('str')\n",
    "df1['title_year'] = df1['movie'] + df1['year'].astype('str')\n",
    "df5['title_year'] = df5['title'] + df5['year'].astype('str')"
   ]
  },
  {
   "cell_type": "code",
   "execution_count": 7,
   "metadata": {},
   "outputs": [],
   "source": [
    "# create regex pattern and replacement dictionary to sync names between data files\n",
    "\n",
    "change_hyphen = re.compile('\\s*-\\s+')\n",
    "\n",
    "replace_dict = {'â\\x80\\x99': \"'\",\n",
    "                'â\\x80\\x94': ' - ',\n",
    "                'â\\x80\\x93': ' - ',\n",
    "                'â\\x80¦': '…',\n",
    "                'Ã\\xad': 'í',\n",
    "                'Ä\\x81': 'ā',\n",
    "                'Ã¤': 'ä',\n",
    "                'Ã¥': 'å',\n",
    "                'Ã¡': 'á',\n",
    "                'Ã§': 'ç',\n",
    "                'Ã©': 'é',\n",
    "                'Ã¨': 'è',\n",
    "                'Ã«': 'ë',\n",
    "                'Ãª': 'ê',\n",
    "                'à¬': 'ì',\n",
    "                'Ä«': 'ī',\n",
    "                'Ã´': 'ô',\n",
    "                'Ã³': 'ó',\n",
    "                'Ã¸': 'ø',\n",
    "                'Ã¹': 'ù',\n",
    "                'Ã¼': 'ü',\n",
    "                'Ã»': 'ū',\n",
    "                'Ã': 'à',    \n",
    "                'Â': '',     \n",
    "                change_hyphen: ': '\n",
    "               }"
   ]
  },
  {
   "cell_type": "code",
   "execution_count": 8,
   "metadata": {},
   "outputs": [],
   "source": [
    "# this identifies the correct pattern, and replaces all particular bads with goods\n",
    "\n",
    "df1['movie'] = df1['movie'].replace(replace_dict, regex=True)\n",
    "df_sql_merged['primary_title'] = df_sql_merged['primary_title'].replace(replace_dict, regex=True)"
   ]
  },
  {
   "cell_type": "code",
   "execution_count": 9,
   "metadata": {},
   "outputs": [],
   "source": [
    "# this code removes $ and , from currency columns.  It takes a Series names as an argument and removes\n",
    "# those two characters from each value, then recasts the value as int64\n",
    "\n",
    "replace_chars = '\\$|,'\n",
    "columns_to_clean = ['production_budget', 'domestic_gross']\n",
    "df1[columns_to_clean] = df1[columns_to_clean].apply(lambda x: x.str.replace(replace_chars,'').astype('int64')) "
   ]
  },
  {
   "cell_type": "code",
   "execution_count": 10,
   "metadata": {},
   "outputs": [],
   "source": [
    "# merge the csv files together and then merge it with the already joined sql tables\n",
    "df_csv_merged = pd.merge(df1, df5, on='title_year', how='left')\n",
    "df_csv_merged = df_csv_merged[df_csv_merged['domestic_gross_x'] != 0]\n",
    "df_merged = pd.merge(df_csv_merged, df_sql_merged, on=\"title_year\", how = \"left\")"
   ]
  },
  {
   "cell_type": "code",
   "execution_count": 11,
   "metadata": {},
   "outputs": [],
   "source": [
    "# drop the additional columns not needed\n",
    "\n",
    "df_merged = df_merged.drop(columns=[\"domestic_gross_y\", \"foreign_gross\", \"worldwide_gross\", \"year_y\", \"id\", \"start_year\"])"
   ]
  },
  {
   "cell_type": "code",
   "execution_count": 12,
   "metadata": {},
   "outputs": [],
   "source": [
    "# Clean column names and filter for films in the 2010-2018 time period\n",
    "\n",
    "df_merged.rename(columns={'year_x': 'year', 'domestic_gross_x': 'domestic_gross'}, inplace=True)\n",
    "earliest_date = pd.to_datetime('2010-01-01')\n",
    "latest_date = pd.to_datetime('2018-12-31')\n",
    "df_merged = df_merged.loc[(df_merged['release_date']>=earliest_date) & (df_merged['release_date']<=latest_date)]"
   ]
  },
  {
   "cell_type": "markdown",
   "metadata": {},
   "source": [
    "### Data Visualizations and Analysis"
   ]
  },
  {
   "cell_type": "markdown",
   "metadata": {},
   "source": [
    "###### EDA -1\n",
    ".head, .tail, and .info to get a look at df_merged datase"
   ]
  },
  {
   "cell_type": "code",
   "execution_count": 13,
   "metadata": {},
   "outputs": [
    {
     "data": {
      "text/html": [
       "<div>\n",
       "<style scoped>\n",
       "    .dataframe tbody tr th:only-of-type {\n",
       "        vertical-align: middle;\n",
       "    }\n",
       "\n",
       "    .dataframe tbody tr th {\n",
       "        vertical-align: top;\n",
       "    }\n",
       "\n",
       "    .dataframe thead th {\n",
       "        text-align: right;\n",
       "    }\n",
       "</style>\n",
       "<table border=\"1\" class=\"dataframe\">\n",
       "  <thead>\n",
       "    <tr style=\"text-align: right;\">\n",
       "      <th></th>\n",
       "      <th>release_date</th>\n",
       "      <th>movie</th>\n",
       "      <th>production_budget</th>\n",
       "      <th>domestic_gross</th>\n",
       "      <th>year</th>\n",
       "      <th>month</th>\n",
       "      <th>title_year</th>\n",
       "      <th>title</th>\n",
       "      <th>studio</th>\n",
       "      <th>primary_name</th>\n",
       "      <th>primary_title</th>\n",
       "      <th>genres</th>\n",
       "      <th>movie_id</th>\n",
       "    </tr>\n",
       "  </thead>\n",
       "  <tbody>\n",
       "    <tr>\n",
       "      <th>1</th>\n",
       "      <td>2011-05-20</td>\n",
       "      <td>Pirates of the Caribbean: On Stranger Tides</td>\n",
       "      <td>410600000</td>\n",
       "      <td>241063875</td>\n",
       "      <td>2011</td>\n",
       "      <td>5</td>\n",
       "      <td>Pirates of the Caribbean: On Stranger Tides2011</td>\n",
       "      <td>Pirates of the Caribbean: On Stranger Tides</td>\n",
       "      <td>BV</td>\n",
       "      <td>NaN</td>\n",
       "      <td>NaN</td>\n",
       "      <td>NaN</td>\n",
       "      <td>NaN</td>\n",
       "    </tr>\n",
       "    <tr>\n",
       "      <th>3</th>\n",
       "      <td>2015-05-01</td>\n",
       "      <td>Avengers: Age of Ultron</td>\n",
       "      <td>330600000</td>\n",
       "      <td>459005868</td>\n",
       "      <td>2015</td>\n",
       "      <td>5</td>\n",
       "      <td>Avengers: Age of Ultron2015</td>\n",
       "      <td>Avengers: Age of Ultron</td>\n",
       "      <td>BV</td>\n",
       "      <td>Kevin Feige</td>\n",
       "      <td>Avengers: Age of Ultron</td>\n",
       "      <td>Action,Adventure,Sci-Fi</td>\n",
       "      <td>tt2395427</td>\n",
       "    </tr>\n",
       "    <tr>\n",
       "      <th>4</th>\n",
       "      <td>2017-12-15</td>\n",
       "      <td>Star Wars Ep. VIII: The Last Jedi</td>\n",
       "      <td>317000000</td>\n",
       "      <td>620181382</td>\n",
       "      <td>2017</td>\n",
       "      <td>12</td>\n",
       "      <td>Star Wars Ep. VIII: The Last Jedi2017</td>\n",
       "      <td>NaN</td>\n",
       "      <td>NaN</td>\n",
       "      <td>NaN</td>\n",
       "      <td>NaN</td>\n",
       "      <td>NaN</td>\n",
       "      <td>NaN</td>\n",
       "    </tr>\n",
       "    <tr>\n",
       "      <th>5</th>\n",
       "      <td>2015-12-18</td>\n",
       "      <td>Star Wars Ep. VII: The Force Awakens</td>\n",
       "      <td>306000000</td>\n",
       "      <td>936662225</td>\n",
       "      <td>2015</td>\n",
       "      <td>12</td>\n",
       "      <td>Star Wars Ep. VII: The Force Awakens2015</td>\n",
       "      <td>NaN</td>\n",
       "      <td>NaN</td>\n",
       "      <td>NaN</td>\n",
       "      <td>NaN</td>\n",
       "      <td>NaN</td>\n",
       "      <td>NaN</td>\n",
       "    </tr>\n",
       "    <tr>\n",
       "      <th>6</th>\n",
       "      <td>2018-04-27</td>\n",
       "      <td>Avengers: Infinity War</td>\n",
       "      <td>300000000</td>\n",
       "      <td>678815482</td>\n",
       "      <td>2018</td>\n",
       "      <td>4</td>\n",
       "      <td>Avengers: Infinity War2018</td>\n",
       "      <td>Avengers: Infinity War</td>\n",
       "      <td>BV</td>\n",
       "      <td>NaN</td>\n",
       "      <td>NaN</td>\n",
       "      <td>NaN</td>\n",
       "      <td>NaN</td>\n",
       "    </tr>\n",
       "  </tbody>\n",
       "</table>\n",
       "</div>"
      ],
      "text/plain": [
       "  release_date                                        movie  \\\n",
       "1   2011-05-20  Pirates of the Caribbean: On Stranger Tides   \n",
       "3   2015-05-01                      Avengers: Age of Ultron   \n",
       "4   2017-12-15            Star Wars Ep. VIII: The Last Jedi   \n",
       "5   2015-12-18         Star Wars Ep. VII: The Force Awakens   \n",
       "6   2018-04-27                       Avengers: Infinity War   \n",
       "\n",
       "   production_budget  domestic_gross  year  month  \\\n",
       "1          410600000       241063875  2011      5   \n",
       "3          330600000       459005868  2015      5   \n",
       "4          317000000       620181382  2017     12   \n",
       "5          306000000       936662225  2015     12   \n",
       "6          300000000       678815482  2018      4   \n",
       "\n",
       "                                        title_year  \\\n",
       "1  Pirates of the Caribbean: On Stranger Tides2011   \n",
       "3                      Avengers: Age of Ultron2015   \n",
       "4            Star Wars Ep. VIII: The Last Jedi2017   \n",
       "5         Star Wars Ep. VII: The Force Awakens2015   \n",
       "6                       Avengers: Infinity War2018   \n",
       "\n",
       "                                         title studio primary_name  \\\n",
       "1  Pirates of the Caribbean: On Stranger Tides     BV          NaN   \n",
       "3                      Avengers: Age of Ultron     BV  Kevin Feige   \n",
       "4                                          NaN    NaN          NaN   \n",
       "5                                          NaN    NaN          NaN   \n",
       "6                       Avengers: Infinity War     BV          NaN   \n",
       "\n",
       "             primary_title                   genres   movie_id  \n",
       "1                      NaN                      NaN        NaN  \n",
       "3  Avengers: Age of Ultron  Action,Adventure,Sci-Fi  tt2395427  \n",
       "4                      NaN                      NaN        NaN  \n",
       "5                      NaN                      NaN        NaN  \n",
       "6                      NaN                      NaN        NaN  "
      ]
     },
     "execution_count": 13,
     "metadata": {},
     "output_type": "execute_result"
    }
   ],
   "source": [
    "df_merged.head()"
   ]
  },
  {
   "cell_type": "code",
   "execution_count": 14,
   "metadata": {},
   "outputs": [
    {
     "data": {
      "text/html": [
       "<div>\n",
       "<style scoped>\n",
       "    .dataframe tbody tr th:only-of-type {\n",
       "        vertical-align: middle;\n",
       "    }\n",
       "\n",
       "    .dataframe tbody tr th {\n",
       "        vertical-align: top;\n",
       "    }\n",
       "\n",
       "    .dataframe thead th {\n",
       "        text-align: right;\n",
       "    }\n",
       "</style>\n",
       "<table border=\"1\" class=\"dataframe\">\n",
       "  <thead>\n",
       "    <tr style=\"text-align: right;\">\n",
       "      <th></th>\n",
       "      <th>release_date</th>\n",
       "      <th>movie</th>\n",
       "      <th>production_budget</th>\n",
       "      <th>domestic_gross</th>\n",
       "      <th>year</th>\n",
       "      <th>month</th>\n",
       "      <th>title_year</th>\n",
       "      <th>title</th>\n",
       "      <th>studio</th>\n",
       "      <th>primary_name</th>\n",
       "      <th>primary_title</th>\n",
       "      <th>genres</th>\n",
       "      <th>movie_id</th>\n",
       "    </tr>\n",
       "  </thead>\n",
       "  <tbody>\n",
       "    <tr>\n",
       "      <th>6700</th>\n",
       "      <td>2016-03-18</td>\n",
       "      <td>Krisha</td>\n",
       "      <td>30000</td>\n",
       "      <td>144822</td>\n",
       "      <td>2016</td>\n",
       "      <td>3</td>\n",
       "      <td>Krisha2016</td>\n",
       "      <td>NaN</td>\n",
       "      <td>NaN</td>\n",
       "      <td>NaN</td>\n",
       "      <td>NaN</td>\n",
       "      <td>NaN</td>\n",
       "      <td>NaN</td>\n",
       "    </tr>\n",
       "    <tr>\n",
       "      <th>6703</th>\n",
       "      <td>2010-10-15</td>\n",
       "      <td>Down Terrace</td>\n",
       "      <td>30000</td>\n",
       "      <td>9812</td>\n",
       "      <td>2010</td>\n",
       "      <td>10</td>\n",
       "      <td>Down Terrace2010</td>\n",
       "      <td>NaN</td>\n",
       "      <td>NaN</td>\n",
       "      <td>NaN</td>\n",
       "      <td>NaN</td>\n",
       "      <td>NaN</td>\n",
       "      <td>NaN</td>\n",
       "    </tr>\n",
       "    <tr>\n",
       "      <th>6706</th>\n",
       "      <td>2017-01-27</td>\n",
       "      <td>Emily</td>\n",
       "      <td>27000</td>\n",
       "      <td>3547</td>\n",
       "      <td>2017</td>\n",
       "      <td>1</td>\n",
       "      <td>Emily2017</td>\n",
       "      <td>NaN</td>\n",
       "      <td>NaN</td>\n",
       "      <td>NaN</td>\n",
       "      <td>NaN</td>\n",
       "      <td>NaN</td>\n",
       "      <td>NaN</td>\n",
       "    </tr>\n",
       "    <tr>\n",
       "      <th>6712</th>\n",
       "      <td>2010-04-02</td>\n",
       "      <td>Breaking Upwards</td>\n",
       "      <td>15000</td>\n",
       "      <td>115592</td>\n",
       "      <td>2010</td>\n",
       "      <td>4</td>\n",
       "      <td>Breaking Upwards2010</td>\n",
       "      <td>NaN</td>\n",
       "      <td>NaN</td>\n",
       "      <td>NaN</td>\n",
       "      <td>NaN</td>\n",
       "      <td>NaN</td>\n",
       "      <td>NaN</td>\n",
       "    </tr>\n",
       "    <tr>\n",
       "      <th>6721</th>\n",
       "      <td>2012-01-13</td>\n",
       "      <td>Newlyweds</td>\n",
       "      <td>9000</td>\n",
       "      <td>4584</td>\n",
       "      <td>2012</td>\n",
       "      <td>1</td>\n",
       "      <td>Newlyweds2012</td>\n",
       "      <td>NaN</td>\n",
       "      <td>NaN</td>\n",
       "      <td>NaN</td>\n",
       "      <td>NaN</td>\n",
       "      <td>NaN</td>\n",
       "      <td>NaN</td>\n",
       "    </tr>\n",
       "  </tbody>\n",
       "</table>\n",
       "</div>"
      ],
      "text/plain": [
       "     release_date             movie  production_budget  domestic_gross  year  \\\n",
       "6700   2016-03-18            Krisha              30000          144822  2016   \n",
       "6703   2010-10-15      Down Terrace              30000            9812  2010   \n",
       "6706   2017-01-27             Emily              27000            3547  2017   \n",
       "6712   2010-04-02  Breaking Upwards              15000          115592  2010   \n",
       "6721   2012-01-13         Newlyweds               9000            4584  2012   \n",
       "\n",
       "      month            title_year title studio primary_name primary_title  \\\n",
       "6700      3            Krisha2016   NaN    NaN          NaN           NaN   \n",
       "6703     10      Down Terrace2010   NaN    NaN          NaN           NaN   \n",
       "6706      1             Emily2017   NaN    NaN          NaN           NaN   \n",
       "6712      4  Breaking Upwards2010   NaN    NaN          NaN           NaN   \n",
       "6721      1         Newlyweds2012   NaN    NaN          NaN           NaN   \n",
       "\n",
       "     genres movie_id  \n",
       "6700    NaN      NaN  \n",
       "6703    NaN      NaN  \n",
       "6706    NaN      NaN  \n",
       "6712    NaN      NaN  \n",
       "6721    NaN      NaN  "
      ]
     },
     "execution_count": 14,
     "metadata": {},
     "output_type": "execute_result"
    }
   ],
   "source": [
    "df_merged.tail()"
   ]
  },
  {
   "cell_type": "code",
   "execution_count": 15,
   "metadata": {},
   "outputs": [
    {
     "name": "stdout",
     "output_type": "stream",
     "text": [
      "<class 'pandas.core.frame.DataFrame'>\n",
      "Int64Index: 3205 entries, 1 to 6721\n",
      "Data columns (total 13 columns):\n",
      " #   Column             Non-Null Count  Dtype         \n",
      "---  ------             --------------  -----         \n",
      " 0   release_date       3205 non-null   datetime64[ns]\n",
      " 1   movie              3205 non-null   object        \n",
      " 2   production_budget  3205 non-null   int64         \n",
      " 3   domestic_gross     3205 non-null   int64         \n",
      " 4   year               3205 non-null   int64         \n",
      " 5   month              3205 non-null   int64         \n",
      " 6   title_year         3205 non-null   object        \n",
      " 7   title              2353 non-null   object        \n",
      " 8   studio             2352 non-null   object        \n",
      " 9   primary_name       2597 non-null   object        \n",
      " 10  primary_title      2597 non-null   object        \n",
      " 11  genres             2596 non-null   object        \n",
      " 12  movie_id           2597 non-null   object        \n",
      "dtypes: datetime64[ns](1), int64(4), object(8)\n",
      "memory usage: 350.5+ KB\n"
     ]
    }
   ],
   "source": [
    "df_merged.info()"
   ]
  },
  {
   "cell_type": "markdown",
   "metadata": {},
   "source": [
    "###### EDA-2\n",
    "explore and further prepare financial data"
   ]
  },
  {
   "cell_type": "code",
   "execution_count": 16,
   "metadata": {},
   "outputs": [],
   "source": [
    "# create a profit column for each movie\n",
    "df_merged['return'] = df_merged['domestic_gross'] - df_merged['production_budget']"
   ]
  },
  {
   "cell_type": "code",
   "execution_count": 17,
   "metadata": {},
   "outputs": [],
   "source": [
    "# This cell creates a new column for profit as % of budget\n",
    "\n",
    "df_merged['percent_return'] = (df_merged['domestic_gross'] / df_merged['production_budget'])"
   ]
  },
  {
   "cell_type": "code",
   "execution_count": 18,
   "metadata": {},
   "outputs": [],
   "source": [
    "# Drop any duplicates of the title_year key\n",
    "#create a new dataframe\n",
    "\n",
    "df_budget = df_merged.drop_duplicates(subset=['title_year']).copy()"
   ]
  },
  {
   "cell_type": "code",
   "execution_count": 19,
   "metadata": {},
   "outputs": [],
   "source": [
    "# create buckets and turn them into a column\n",
    "df_budget['bucket'] = pd.qcut(df_budget['production_budget'], q=5, labels=False)"
   ]
  },
  {
   "cell_type": "code",
   "execution_count": 20,
   "metadata": {},
   "outputs": [],
   "source": [
    "# This code creates a scaled value for each film budget, along with the bucket boundaries and means\n",
    "\n",
    "buckets = list(reversed(df_budget['bucket'].unique()))\n",
    "bucket_bounds = np.zeros((len(buckets),2))\n",
    "bucket_range = np.zeros(len(buckets))\n",
    "bucket_means = np.zeros(len(buckets))\n",
    "\n",
    "for i in buckets:\n",
    "    bucket_bounds[i,0] = df_budget.loc[df_budget['bucket']==i]['production_budget'].min()\n",
    "    bucket_bounds[i,1] = df_budget.loc[df_budget['bucket']==i]['production_budget'].max()\n",
    "    bucket_range[i] = bucket_bounds[i,1] - bucket_bounds[i,0]\n",
    "    bucket_means[i] = df_budget.loc[df_budget['bucket']==i]['return'].mean()\n",
    "\n",
    "df_budget['scaled_value'] = ((df_budget['production_budget']\n",
    "                             - bucket_bounds[df_budget['bucket'],0])\n",
    "                             / bucket_range[df_budget['bucket']] \n",
    "                             + df_budget['bucket'])\n",
    "df_budget['bucket_low'] = bucket_bounds[df_budget['bucket'],0]\n",
    "df_budget['bucket_high'] = bucket_bounds[df_budget['bucket'],1]\n",
    "df_budget['bucket_mean'] = bucket_means[df_budget['bucket']]"
   ]
  },
  {
   "cell_type": "code",
   "execution_count": 21,
   "metadata": {},
   "outputs": [],
   "source": [
    "#export the df_budget to use it in Tableau\n",
    "df_budget.to_csv('Data/budget.csv')"
   ]
  },
  {
   "cell_type": "code",
   "execution_count": 22,
   "metadata": {},
   "outputs": [],
   "source": [
    "grouped_data = df_budget.groupby('year')['percent_return'].mean().reset_index()"
   ]
  },
  {
   "cell_type": "code",
   "execution_count": 23,
   "metadata": {},
   "outputs": [],
   "source": [
    "# Recopy df_merged for genres analysis, dropping any duplicates of the title_year key,\n",
    "# any unnecessary columns and null values in 'genres'\n",
    "\n",
    "df_genre = df_merged.drop_duplicates(subset=['title_year']).copy()\n",
    "df_genre.drop(columns=['year', 'month', 'primary_name', 'primary_title', 'title', 'studio'], inplace=True)\n",
    "df_genre.dropna(subset=['genres'], inplace=True)"
   ]
  },
  {
   "cell_type": "code",
   "execution_count": 24,
   "metadata": {},
   "outputs": [],
   "source": [
    "# Get dummies for genre to perform genre analysis\n",
    "\n",
    "genres = list(df_genre['genres'].str.get_dummies(\",\").columns)\n",
    "df_genre = df_genre.join(df_genre['genres'].str.get_dummies(\",\"))"
   ]
  },
  {
   "cell_type": "code",
   "execution_count": 25,
   "metadata": {},
   "outputs": [],
   "source": [
    "# Create a summary stats table by genre\n",
    "\n",
    "df_genre_table = pd.DataFrame(index=range(len(genres)), columns=range(4))\n",
    "\n",
    "j = 0\n",
    "for genre in genres:\n",
    "    genre_count = df_genre[genre].sum()\n",
    "    avg_profit = (df_genre['return'].dot(df_genre[genre])*100 / genre_count)\n",
    "    avg_budget = ((df_genre['production_budget'].dot(df_genre[genre])/ genre_count)/1000000)\n",
    "    df_genre_table.loc[j, 0] = genre\n",
    "    df_genre_table.loc[j, 1] = genre_count\n",
    "    df_genre_table.loc[j, 2] = avg_budget\n",
    "    df_genre_table.loc[j, 3] = avg_profit\n",
    "    j += 1"
   ]
  },
  {
   "cell_type": "code",
   "execution_count": 26,
   "metadata": {},
   "outputs": [],
   "source": [
    "# Write df_genre to an excel file called genres2.xlsx\n",
    "with pd.ExcelWriter('Data/genres2.xlsx', engine='openpyxl') as writer:\n",
    "    df_genre.to_excel(writer, sheet_name='Data', index=False)\n",
    "\n",
    "with pd.ExcelWriter('Data/genres2.xlsx', engine='openpyxl', mode='a') as writer:\n",
    "    df_genre_table.to_excel(writer, sheet_name='Summary_Table', header=['Genre', 'Count', 'Avg Budget', 'Avg Sales/Budget'],\n",
    "                        index=False)"
   ]
  },
  {
   "cell_type": "markdown",
   "metadata": {},
   "source": [
    "###### EDA-3\n",
    "basic visualizations exploring the data"
   ]
  },
  {
   "cell_type": "code",
   "execution_count": 27,
   "metadata": {},
   "outputs": [
    {
     "data": {
      "image/png": "[encoded data removed]",
      "text/plain": [
       "<Figure size 432x288 with 1 Axes>"
      ]
     },
     "metadata": {
      "needs_background": "light"
     },
     "output_type": "display_data"
    }
   ],
   "source": [
    "#Overall, movies appear to be increasing in their returns overtime, prior to 2019.\n",
    "#In general it would appear that going into the movie business can be profitable.\n",
    "grouped_data.plot(x='year', y='percent_return', kind='bar')\n",
    "plt.xlabel('Year')\n",
    "plt.ylabel('Average Percent Return')\n",
    "plt.title('Average Percent Return by Year')\n",
    "plt.show()"
   ]
  },
  {
   "cell_type": "code",
   "execution_count": 28,
   "metadata": {},
   "outputs": [
    {
     "data": {
      "image/png": "[encoded data removed]",
      "text/plain": [
       "<Figure size 432x288 with 1 Axes>"
      ]
     },
     "metadata": {
      "needs_background": "light"
     },
     "output_type": "display_data"
    }
   ],
   "source": [
    "#It's difficult to see the cluster of movies hovering around the low budget and low returns, \n",
    "#but the concentration that moves up the y-axis around 0 on the x-axis suggests that \n",
    "# lower budget movies might produce better overall returns. \n",
    "\n",
    "df_budget.plot.scatter(x='production_budget', y='percent_return')\n",
    "plt.show()"
   ]
  },
  {
   "cell_type": "code",
   "execution_count": 29,
   "metadata": {},
   "outputs": [
    {
     "data": {
      "image/png": "[encoded data removed]",
      "text/plain": [
       "<Figure size 432x288 with 1 Axes>"
      ]
     },
     "metadata": {
      "needs_background": "light"
     },
     "output_type": "display_data"
    }
   ],
   "source": [
    "# The primary takeaway from this figure is out incredible outlier. \n",
    "# There are several additional outliers as well, \n",
    "# and they mask us being able to see the distribution of the other movie's returns\n",
    "\n",
    "df_budget.boxplot(column='percent_return')\n",
    "plt.show()"
   ]
  },
  {
   "cell_type": "markdown",
   "metadata": {},
   "source": [
    "###### Analysis\n",
    "\n",
    "run some basic statistics (mean, std), z-test, and simple linear regression"
   ]
  },
  {
   "cell_type": "code",
   "execution_count": 30,
   "metadata": {},
   "outputs": [
    {
     "data": {
      "text/plain": [
       "'\\nMean Budget: 42403013.56855995,\\nStd Budget: 54103688.08852946,\\nMean Domestic Gross: 53880767.41308089,\\nStd Domestic Gross: 85449576.03345673,\\nMean Percent Return: 1.9218520292761037,\\nStd Percent Return: 6.4306211954827734\\n'"
      ]
     },
     "execution_count": 30,
     "metadata": {},
     "output_type": "execute_result"
    }
   ],
   "source": [
    "# look at the mean and standard deviation for overall budget, overall domestic gross, and percent return\n",
    "mean_budget = df_budget[\"production_budget\"].mean()\n",
    "std_budget = df_budget[\"production_budget\"].std()\n",
    "mean_domestic_gross = df_budget[\"domestic_gross\"].mean()\n",
    "std_domestic_gross = df_budget[\"domestic_gross\"].std()\n",
    "mean_percent_return = df_budget[\"percent_return\"].mean()\n",
    "std_percent_return = df_budget[\"percent_return\"].std()\n",
    "\n",
    "f'''\n",
    "Mean Budget: {mean_budget},\n",
    "Std Budget: {std_budget},\n",
    "Mean Domestic Gross: {mean_domestic_gross},\n",
    "Std Domestic Gross: {std_domestic_gross},\n",
    "Mean Percent Return: {mean_percent_return},\n",
    "Std Percent Return: {std_percent_return}\n",
    "'''"
   ]
  },
  {
   "cell_type": "code",
   "execution_count": 31,
   "metadata": {},
   "outputs": [
    {
     "data": {
      "text/plain": [
       "Jason Blum          18\n",
       "Ryan Kavanaugh       8\n",
       "Todd Garner          8\n",
       "Peter Chernin        7\n",
       "Judd Apatow          7\n",
       "                    ..\n",
       "Nick Wechsler        1\n",
       "Wendy Finerman       1\n",
       "Michael Gottwald     1\n",
       "Kristine Belson      1\n",
       "Bill Paxton          1\n",
       "Name: primary_name, Length: 768, dtype: int64"
      ]
     },
     "execution_count": 31,
     "metadata": {},
     "output_type": "execute_result"
    }
   ],
   "source": [
    "#count of movies by producer\n",
    "producer_counts = df_budget[\"primary_name\"].value_counts()\n",
    "producer_counts"
   ]
  },
  {
   "cell_type": "code",
   "execution_count": 32,
   "metadata": {},
   "outputs": [
    {
     "data": {
      "text/plain": [
       "'\\nMean Percent Return: 2.036702986165756,\\nStd Percent Return: 7.674686106948405\\n'"
      ]
     },
     "execution_count": 32,
     "metadata": {},
     "output_type": "execute_result"
    }
   ],
   "source": [
    "# create a dataframe looking at low volume movie producers\n",
    "data = df_budget\n",
    "df_low = pd.DataFrame(data)\n",
    "\n",
    "value_counts = df_low['primary_name'].value_counts()\n",
    "\n",
    "#low volumne is defined as one to five movies\n",
    "min_count = 1\n",
    "max_count = 5\n",
    "\n",
    "# create the subset dataframe\n",
    "subset_low_df = df_low[df_low['primary_name'].isin(value_counts[(value_counts >= min_count) & \n",
    "                                                                (value_counts <= max_count)].index)]\n",
    "\n",
    "#calculate the mean and standard deviation for low volume producers\n",
    "mean_df_low = subset_low_df[\"percent_return\"].mean()\n",
    "std_df_low = subset_low_df[\"percent_return\"].std()\n",
    "\n",
    "f'''\n",
    "Mean Percent Return: {mean_df_low},\n",
    "Std Percent Return: {std_df_low}\n",
    "'''"
   ]
  },
  {
   "cell_type": "code",
   "execution_count": 33,
   "metadata": {},
   "outputs": [
    {
     "data": {
      "text/plain": [
       "'\\nMean Percent Return: 2.8691577255904988,\\nStd Percent Return: 4.808848542519632\\n'"
      ]
     },
     "execution_count": 33,
     "metadata": {},
     "output_type": "execute_result"
    }
   ],
   "source": [
    "# create a dataframe looking at high volume movie producers\n",
    "data = df_budget\n",
    "df_high = pd.DataFrame(data)\n",
    "\n",
    "value_counts = df_high['primary_name'].value_counts()\n",
    "\n",
    "# high volumne is defined as six or more movies\n",
    "min_count = 6\n",
    "max_count = 30\n",
    "\n",
    "# create the subset dataframe\n",
    "subset_high_df = df_high[df_high['primary_name'].isin(value_counts[(value_counts >= min_count) & \n",
    "                                                                   (value_counts <= max_count)].index)]\n",
    "\n",
    "#calculate the mean and standard deviation for high volume producers\n",
    "mean_df_high = subset_high_df[\"percent_return\"].mean()\n",
    "std_df_high = subset_high_df[\"percent_return\"].std()\n",
    "\n",
    "f'''\n",
    "Mean Percent Return: {mean_df_high},\n",
    "Std Percent Return: {std_df_high}\n",
    "'''\n"
   ]
  },
  {
   "cell_type": "code",
   "execution_count": 34,
   "metadata": {},
   "outputs": [],
   "source": [
    "# putting the subset low/high volume producers back together with a high/low key\n",
    "combined_df = pd.concat([subset_high_df, subset_low_df], keys=['HighProducer', 'LowProducer'])\n",
    "combined_df.head()\n",
    "combined_df.tail()\n",
    "combined_df.to_csv('Data/visual2.csv')"
   ]
  },
  {
   "cell_type": "code",
   "execution_count": 35,
   "metadata": {},
   "outputs": [
    {
     "name": "stdout",
     "output_type": "stream",
     "text": [
      "Z-statistic: 1.5728659132294835\n"
     ]
    }
   ],
   "source": [
    "# we are choosing to do a z-test here; we are considering the imdb sql dataset as population level box office movie data\n",
    "\n",
    "population_mean = 0.92185\n",
    "sample_mean = 1.86916\n",
    "standard_deviation = 6.43062\n",
    "sample_size = 114\n",
    "\n",
    "# z-statistic\n",
    "z = (sample_mean - population_mean) / (standard_deviation / np.sqrt(sample_size))\n",
    "\n",
    "print(\"Z-statistic:\", z)"
   ]
  },
  {
   "cell_type": "code",
   "execution_count": 36,
   "metadata": {},
   "outputs": [
    {
     "data": {
      "text/plain": [
       "0.057874934695254954"
      ]
     },
     "execution_count": 36,
     "metadata": {},
     "output_type": "execute_result"
    }
   ],
   "source": [
    "# drop the z statistic into a cdf to get a p-value\n",
    "1-stats.norm.cdf(z)"
   ]
  },
  {
   "cell_type": "code",
   "execution_count": 37,
   "metadata": {},
   "outputs": [
    {
     "data": {
      "text/plain": [
       "LinearRegression()"
      ]
     },
     "execution_count": 37,
     "metadata": {},
     "output_type": "execute_result"
    }
   ],
   "source": [
    "# conduct a linear regression looking at the budget as a predictor of gross (domestic)\n",
    "X=df_budget[[\"production_budget\"]] #predictor (used to predict the target)\n",
    "y=df_budget[[\"domestic_gross\"]] #target (predicted by the budget)\n",
    "model = LinearRegression()\n",
    "model.fit(X, y)"
   ]
  },
  {
   "cell_type": "code",
   "execution_count": 38,
   "metadata": {},
   "outputs": [
    {
     "name": "stdout",
     "output_type": "stream",
     "text": [
      "Predicted values: [[4.77489194e+08]\n",
      " [3.85449673e+08]\n",
      " [3.69802955e+08]\n",
      " ...\n",
      " [5.12741771e+06]\n",
      " [5.11361179e+06]\n",
      " [5.10670882e+06]]\n",
      "Coefficients: [[1.15049401]]\n",
      "Intercept: [5096354.37653386]\n"
     ]
    }
   ],
   "source": [
    "# coefficients represent the change in domestic gross for a one-unit change in the production budget \n",
    "y_pred = model.predict(X)\n",
    "print(\"Predicted values:\", y_pred)\n",
    "\n",
    "coefficients = model.coef_\n",
    "intercept = model.intercept_\n",
    "print(\"Coefficients:\", coefficients)\n",
    "print(\"Intercept:\", intercept)"
   ]
  },
  {
   "cell_type": "markdown",
   "metadata": {},
   "source": [
    "#### Alternative regression: logarithmic"
   ]
  },
  {
   "cell_type": "code",
   "execution_count": 40,
   "metadata": {},
   "outputs": [],
   "source": [
    "def logarithmic_curve(x, a, b):\n",
    "    return a * np.log(x) + b"
   ]
  },
  {
   "cell_type": "code",
   "execution_count": 41,
   "metadata": {},
   "outputs": [],
   "source": [
    "# estimate the coefficients of a logarithmic curve\n",
    "x_data = df_budget['production_budget']\n",
    "y_data = df_budget['percent_return']\n",
    "popt, pcov = curve_fit(logarithmic_curve, x_data, y_data)\n",
    "a_est, b_est = popt"
   ]
  },
  {
   "cell_type": "code",
   "execution_count": 42,
   "metadata": {},
   "outputs": [
    {
     "data": {
      "image/png": "[encoded data removed]",
      "text/plain": [
       "<Figure size 432x288 with 1 Axes>"
      ]
     },
     "metadata": {
      "needs_background": "light"
     },
     "output_type": "display_data"
    }
   ],
   "source": [
    "# Generate x and y values for plotting\n",
    "x_values = np.linspace(min(x_data), max(x_data), 100)\n",
    "y_values = a_est * np.log(x_values) + b_est\n",
    "\n",
    "# Plot the data points\n",
    "plt.scatter(x_data, y_data, label='Data')\n",
    "\n",
    "# Plot the curve\n",
    "plt.plot(x_values, y_values, color='red', label='Curve Fit')\n",
    "\n",
    "# Label the axes and add a legend\n",
    "plt.xlabel('X')\n",
    "plt.ylabel('Y')\n",
    "plt.legend()\n",
    "\n",
    "# Show the plot\n",
    "plt.show()"
   ]
  },
  {
   "cell_type": "code",
   "execution_count": 43,
   "metadata": {},
   "outputs": [],
   "source": [
    "# export the budget dataframe for Tableau analysis\n",
    "df_budget.to_csv('Data/visuals.csv')"
   ]
  },
  {
   "cell_type": "markdown",
   "metadata": {},
   "source": [
    "## Conclusion\n",
    "Our data analysis shows that:\n",
    "\n",
    "- Keeping budgets small leads to higher profitability over time\n",
    "\n",
    "- Horror, mystery, thriller and romance movies are more reliably profitable\n",
    "\n",
    "- Making more movies leads to more profitability"
   ]
  }
 ],
 "metadata": {
  "kernelspec": {
   "display_name": "Python (learn-env)",
   "language": "python",
   "name": "learn-env"
  },
  "language_info": {
   "codemirror_mode": {
    "name": "ipython",
    "version": 3
   },
   "file_extension": ".py",
   "mimetype": "text/x-python",
   "name": "python",
   "nbconvert_exporter": "python",
   "pygments_lexer": "ipython3",
   "version": "3.8.5"
  }
 },
 "nbformat": 4,
 "nbformat_minor": 4
}
