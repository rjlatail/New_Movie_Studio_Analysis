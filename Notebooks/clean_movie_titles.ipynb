{
 "cells": [
  {
   "cell_type": "code",
   "execution_count": 1,
   "metadata": {},
   "outputs": [],
   "source": [
    "# import the packages we expect to use\n",
    "\n",
    "import pandas as pd\n",
    "import sqlite3\n",
    "import re"
   ]
  },
  {
   "cell_type": "code",
   "execution_count": 2,
   "metadata": {},
   "outputs": [],
   "source": [
    "# read in the relevant CSV files\n",
    "\n",
    "tn = pd.read_csv('dsc-phase-2-project-v3/zippedData/tn.movie_budgets.csv.gz', encoding='utf-8')\n",
    "bom = pd.read_csv('dsc-phase-2-project-v3/zippedData/bom.movie_gross.csv.gz')"
   ]
  },
  {
   "cell_type": "code",
   "execution_count": 3,
   "metadata": {},
   "outputs": [],
   "source": [
    "# connect to the IMDB database file\n",
    "\n",
    "conn = sqlite3.connect('Phase_2_Repo\\zippedData\\im.db')"
   ]
  },
  {
   "cell_type": "code",
   "execution_count": 4,
   "metadata": {},
   "outputs": [],
   "source": [
    "# load movie_basics into a DataFrame\n",
    "\n",
    "query = \"\"\"\n",
    "    SELECT *\n",
    "    FROM movie_basics\n",
    ";\n",
    "\"\"\"\n",
    "df_basics = pd.read_sql(query, conn)"
   ]
  },
  {
   "cell_type": "code",
   "execution_count": 5,
   "metadata": {},
   "outputs": [],
   "source": [
    "# close the database connection\n",
    "\n",
    "conn.close()"
   ]
  },
  {
   "cell_type": "code",
   "execution_count": 6,
   "metadata": {},
   "outputs": [],
   "source": [
    "# create replacement dictionary\n",
    "\n",
    "replace_dict = {'â\\x80\\x99': \"'\",\n",
    "                'â\\x80\\x94': ' - ',\n",
    "                'â\\x80\\x93': ' - ',\n",
    "                'â\\x80¦': '…',\n",
    "                'Ã\\xad': 'í',\n",
    "                'Ä\\x81': 'ā',\n",
    "                'Ã¤': 'ä',\n",
    "                'Ã¥': 'å',\n",
    "                'Ã¡': 'á',\n",
    "                'Ã§': 'ç',\n",
    "                'Ã©': 'é',\n",
    "                'Ã¨': 'è',\n",
    "                'Ã«': 'ë',\n",
    "                'Ãª': 'ê',\n",
    "                'à¬': 'ì',\n",
    "                'Ä«': 'ī',\n",
    "                'Ã´': 'ô',\n",
    "                'Ã³': 'ó',\n",
    "                'Ã¸': 'ø',\n",
    "                'Ã¹': 'ù',\n",
    "                'Ã¼': 'ü',\n",
    "                'Ã»': 'ū',\n",
    "                'Ã': 'à',    # This has to be after the two-digit patterns\n",
    "                'Â': '',     # I think this is a non-breaking space\n",
    "               }\n",
    "\n",
    "# record 5707 (\"I love you, don't touch me\") has the comma coded as an ellipsis\n",
    "# record 2398 (\"Chai Dan Zhuan Jia\") has an extra space between da and n"
   ]
  },
  {
   "cell_type": "code",
   "execution_count": 7,
   "metadata": {},
   "outputs": [],
   "source": [
    "# this identifies the correct pattern, and replaces all particular bads with goods\n",
    "\n",
    "tn['movie'] = tn['movie'].replace(replace_dict, regex=True)\n",
    "df_basics['primary_title'] = df_basics['primary_title'].replace(replace_dict, regex=True)"
   ]
  },
  {
   "cell_type": "code",
   "execution_count": 8,
   "metadata": {},
   "outputs": [],
   "source": [
    "merged_df = tn.merge(df_basics, how='left', right_on='primary_title', left_on='movie')"
   ]
  },
  {
   "cell_type": "code",
   "execution_count": 9,
   "metadata": {},
   "outputs": [],
   "source": [
    "# this code converts the release date column to datetime\n",
    "\n",
    "tn['release_date'] = pd.to_datetime(tn['release_date'])"
   ]
  },
  {
   "cell_type": "code",
   "execution_count": 10,
   "metadata": {},
   "outputs": [],
   "source": [
    "# this code removes $ and , from currency columns.  It takes a Series names as an argument and removes\n",
    "# those two characters from each value, then recasts the value as int64\n",
    "\n",
    "def clean_currency(columns_to_clean):\n",
    "    replace_chars = '\\$|,'\n",
    "    return tn[columns_to_clean].apply(lambda x: x.str.replace(replace_chars,'').astype('int64'))"
   ]
  },
  {
   "cell_type": "code",
   "execution_count": 11,
   "metadata": {},
   "outputs": [],
   "source": [
    "# Uses the currency cleaning function to clean three columns\n",
    "\n",
    "columns_to_clean = ['production_budget', 'domestic_gross', 'worldwide_gross']\n",
    "tn[columns_to_clean] = clean_currency(columns_to_clean)"
   ]
  },
  {
   "cell_type": "raw",
   "metadata": {},
   "source": [
    "dummies_result = df_basics['genres'].str.get_dummies(',')"
   ]
  },
  {
   "cell_type": "raw",
   "metadata": {},
   "source": [
    "query = \"\"\"\n",
    "    SELECT *\n",
    "    FROM sqlite_master\n",
    "    WHERE type = \"table\";\n",
    "\"\"\"\n",
    "pd.read_sql(query, conn)"
   ]
  },
  {
   "cell_type": "raw",
   "metadata": {},
   "source": [
    "# this takes a position argument and returns the record\n",
    "n = 2398\n",
    "\n",
    "bad_record = tn_faulty.loc[n]\n",
    "bad_string = bad_record['movie']\n",
    "print(bad_record)\n",
    "bad_string"
   ]
  },
  {
   "cell_type": "raw",
   "metadata": {},
   "source": [
    "# This function takes a series and return a boolean series that identifies\n",
    "# whether the values in that series contain any of the control characters.\n",
    "# First it identifies the control characters, then it creates a regex pattern\n",
    "# using those control characters, and finally, it creates a new column series\n",
    "# that identifies whether the string in the passed series contains any\n",
    "\n",
    "def clean_control(ser):\n",
    "\n",
    "    control_characters = [\"\\x00\",\"\\x01\",\"\\x02\",\"\\x03\",\"\\x04\",\"\\x05\",\"\\x06\",\"\\x07\",\"\\x08\",\"\\t\",\n",
    "                          \"\\n\",\"\\x0b\",\"\\x0c\",\"\\r\",\"\\x0e\",\"\\x0f\",\"\\x10\",\"\\x11\",\"\\x12\",\"\\x13\",\"\\x14\",\n",
    "                          \"\\x15\",\"\\x16\",\"\\x17\",\"\\x18\",\"\\x19\",\"\\x1a\",\"\\x1b\",\"\\x1c\",\"\\x1d\",\"\\x1e\",\n",
    "                          \"\\x1f\",\"\\x7f\",\"\\x80\",\"\\x81\",\"\\x82\",\"\\x83\",\"\\x84\",\"\\x85\",\"\\x86\",\"\\x87\",\n",
    "                          \"\\x88\",\"\\x89\",\"\\x8a\",\"\\x8b\",\"\\x8c\",\"\\x8d\",\"\\x8e\",\"\\x8f\",\"\\x90\",\"\\x91\",\n",
    "                          \"\\x92\",\"\\x93\",\"\\x94\",\"\\x95\",\"\\x96\",\"\\x97\",\"\\x98\",\"\\x99\",\"\\x9a\",\"\\x9b\",\n",
    "                          \"\\x9c\",\"\\x9d\",\"\\x9e\",\"\\x9f\",\"\\xa0\",\"\\xa1\",\"\\xa2\",\"\\xa3\",\"\\xa4\",\"\\xa5\",\n",
    "                          \"\\xa6\",\"\\xa7\",\"\\xa8\",\"\\xa9\",\"\\xaa\",\"\\xab\",\"\\xac\",\"\\xad\",\"\\xae\",\"\\xaf\",\n",
    "                          \"\\xb0\",\"\\xb1\",\"\\xb2\",\"\\xb3\",\"\\xb4\",\"\\xb5\",\"\\xb6\",\"\\xb7\",\"\\xb8\",\"\\xb9\",\n",
    "                          \"\\xba\",\"\\xbb\",\"\\xbc\",\"\\xbd\",\"\\xbe\",\"\\xbf\",\"\\xc0\",\"\\xc1\",\"\\xc2\",\"\\xc3\",\n",
    "                          \"\\xc4\",\"\\xc5\",\"\\xc6\",\"\\xc7\",\"\\xc8\",\"\\xc9\",\"\\xca\",\"\\xcb\",\"\\xcc\",\"\\xcd\",\n",
    "                          \"\\xce\",\"\\xcf\",\"\\xd0\",\"\\xd1\",\"\\xd2\",\"\\xd3\",\"\\xd4\",\"\\xd5\",\"\\xd6\",\"\\xd7\",\n",
    "                          \"\\xd8\",\"\\xd9\",\"\\xda\",\"\\xdb\",\"\\xdc\",\"\\xdd\",\"\\xde\",\"\\xdf\",\"\\xe0\",\"\\xe1\",\n",
    "                          \"\\xe2\",\"\\xe3\",\"\\xe4\",\"\\xe5\",\"\\xe6\",\"\\xe7\",\"\\xe8\",\"\\xe9\",\"\\xea\",\"\\xeb\",\n",
    "                          \"\\xec\",\"\\xed\",\"\\xee\",\"\\xef\",\"\\xf0\",\"\\xf1\",\"\\xf2\",\"\\xf3\",\"\\xf4\",\"\\xf5\",\n",
    "                          \"\\xf6\",\"\\xf7\",\"\\xf8\",\"\\xf9\",\"\\xfa\",\"\\xfb\",\"\\xfc\",\"\\xfd\",\"\\xfe\",\"\\xff\"]\n",
    "\n",
    "    pattern = '|'.join(map(re.escape, control_characters))\n",
    "\n",
    "    return ser.str.contains(pattern)"
   ]
  },
  {
   "cell_type": "raw",
   "metadata": {},
   "source": [
    "# this checks the results\n",
    "tn['control_char'] = clean_control(tn['movie'])\n",
    "tn_faulty = tn[tn['control_char']==True]\n",
    "tn_faulty"
   ]
  },
  {
   "cell_type": "raw",
   "metadata": {},
   "source": [
    "# this runs the cleaning function and returns a view of the dataframe that includes control characters\n",
    "df_basics['control_char'] = clean_control(df_basics['primary_title'])\n",
    "df_faulty = df_basics[df_basics['control_char']==True]\n",
    "df_faulty"
   ]
  }
 ],
 "metadata": {
  "kernelspec": {
   "display_name": "Python 3",
   "language": "python",
   "name": "python3"
  },
  "language_info": {
   "codemirror_mode": {
    "name": "ipython",
    "version": 3
   },
   "file_extension": ".py",
   "mimetype": "text/x-python",
   "name": "python",
   "nbconvert_exporter": "python",
   "pygments_lexer": "ipython3",
   "version": "3.8.5"
  }
 },
 "nbformat": 4,
 "nbformat_minor": 4
}
